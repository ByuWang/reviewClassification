{
 "cells": [
  {
   "cell_type": "code",
   "execution_count": 1,
   "metadata": {},
   "outputs": [],
   "source": [
    "import pandas as pd\n",
    "import jieba\n",
    "import re\n",
    "from gensim.models import word2vec\n",
    "import gensim\n",
    "import logging\n",
    "path ='/Users/admin/Documents/Dataset/' "
   ]
  },
  {
   "cell_type": "code",
   "execution_count": 2,
   "metadata": {},
   "outputs": [],
   "source": [
    "# 载入数据，csv文件一般是逗号分隔的数据集\n",
    "data = pd.read_csv(path +'online_shopping_10_cats.csv') "
   ]
  },
  {
   "cell_type": "code",
   "execution_count": 3,
   "metadata": {},
   "outputs": [],
   "source": [
    "# 提取“水果类”的评论用作本次实验\n",
    "data_fruit = data[data.cat == '水果']"
   ]
  },
  {
   "cell_type": "code",
   "execution_count": 4,
   "metadata": {},
   "outputs": [],
   "source": [
    "# 中文字符提取函数，仅提取评论中的中文字符，忽略标点符号以及英文字母、单词等\n",
    "def extractChinese(s):\n",
    "    pattern=\"[\\u4e00-\\u9fa5]+\"#中文正则表达式\n",
    "    regex = re.compile(pattern) #生成正则对象 \n",
    "    results = regex.findall(s) #匹配\n",
    "    return \"\". join(results)"
   ]
  },
  {
   "cell_type": "code",
   "execution_count": 5,
   "metadata": {
    "scrolled": false
   },
   "outputs": [
    {
     "name": "stderr",
     "output_type": "stream",
     "text": [
      "Building prefix dict from the default dictionary ...\n",
      "Loading model from cache /var/folders/f7/94hwsc710mscyzml4tk3x7_40000gn/T/jieba.cache\n",
      "Loading model cost 0.613 seconds.\n",
      "Prefix dict has been built succesfully.\n"
     ]
    },
    {
     "name": "stdout",
     "output_type": "stream",
     "text": [
      "['好吃', '下次', '就', '买宏辉', '果蔬', '的', '了', '的', '比', '的', '好些', '甜', '一分钱', '一分货', '日期', '新鲜']\n"
     ]
    }
   ],
   "source": [
    "# 将原始评论（仅含中文字符）进行分词，最终获得一个corpus列表，列表中的每一项是每个评论对应的分词列表\n",
    "corpus = []\n",
    "for rev in data_fruit.review:\n",
    "    rev = extractChinese(rev)\n",
    "    corpus.append(list(jieba.cut(rev)))\n",
    "print(corpus[0])"
   ]
  },
  {
   "cell_type": "code",
   "execution_count": 6,
   "metadata": {},
   "outputs": [],
   "source": [
    "# 训练并保存doc2vec模型\n",
    "from gensim.test.utils import common_texts\n",
    "from gensim.models.doc2vec import Doc2Vec, TaggedDocument\n",
    "\n",
    "model_path = './fruit_review_d2v.model' #模型保存路径\n",
    "documents = [TaggedDocument(doc, [i]) for i, doc in enumerate(corpus)] #为corpus数据集打标签\n",
    "model = Doc2Vec(documents, vector_size=300, window=2, min_count=1, workers=4)\n",
    "model.save(model_path)\n",
    "model_d2v = Doc2Vec.load('./fruit_review_d2v.model')"
   ]
  },
  {
   "cell_type": "code",
   "execution_count": 7,
   "metadata": {},
   "outputs": [],
   "source": [
    "# 使用训练好的模型将所有的review表示为向量,并从原始数据集中获取评论的标签\n",
    "vectors = []\n",
    "for review in corpus:\n",
    "    vectors.append(model_d2v.infer_vector(review))"
   ]
  },
  {
   "cell_type": "code",
   "execution_count": 8,
   "metadata": {},
   "outputs": [],
   "source": [
    "from sklearn.model_selection import train_test_split\n",
    "x = vectors # 转化为向量后的数据集\n",
    "y = list(data_fruit.label) #数据集的标签（好评1/差评0）\n",
    "x_train,x_test,y_train,y_test = train_test_split(x,y,random_state=1) #将预处理后的数据集分割为训练集和测试集"
   ]
  },
  {
   "cell_type": "code",
   "execution_count": 9,
   "metadata": {},
   "outputs": [
    {
     "name": "stdout",
     "output_type": "stream",
     "text": [
      "0.7488\n"
     ]
    }
   ],
   "source": [
    "#  建立和训练模型、使用模型并计算模型预测准确率\n",
    "from sklearn.linear_model import LogisticRegression\n",
    "import numpy as np\n",
    "LRmodel = LogisticRegression() #建立logistic回归模型\n",
    "LRmodel.fit(x_train,y_train) # 使用训练集训练模型\n",
    "y_hat = LRmodel.predict(x_test) # 使用测试集进行类别预测\n",
    "result = y_hat == y_test # 记录测试集中预测准确的数量\n",
    "acc = np.mean(result) # 计算模型预测准确率\n",
    "print(acc)"
   ]
  }
 ],
 "metadata": {
  "kernelspec": {
   "display_name": "Python 3",
   "language": "python",
   "name": "python3"
  },
  "language_info": {
   "codemirror_mode": {
    "name": "ipython",
    "version": 3
   },
   "file_extension": ".py",
   "mimetype": "text/x-python",
   "name": "python",
   "nbconvert_exporter": "python",
   "pygments_lexer": "ipython3",
   "version": "3.6.5"
  }
 },
 "nbformat": 4,
 "nbformat_minor": 2
}
